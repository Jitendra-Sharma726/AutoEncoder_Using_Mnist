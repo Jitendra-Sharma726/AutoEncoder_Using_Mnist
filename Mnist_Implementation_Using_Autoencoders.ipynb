{
  "cells": [
    {
      "cell_type": "markdown",
      "metadata": {
        "id": "view-in-github",
        "colab_type": "text"
      },
      "source": [
        "<a href=\"https://colab.research.google.com/github/Jitendra-Sharma726/AutoEncoder_Using_Mnist/blob/main/Mnist_Implementation_Using_Autoencoders.ipynb\" target=\"_parent\"><img src=\"https://colab.research.google.com/assets/colab-badge.svg\" alt=\"Open In Colab\"/></a>"
      ]
    },
    {
      "cell_type": "code",
      "source": [
        "\n",
        "import matplotlib.pyplot as plt\n",
        "import numpy as np\n",
        "import pandas as pd\n",
        "import tensorflow as tf\n",
        "\n",
        "from sklearn.metrics import accuracy_score, precision_score, recall_score\n",
        "from sklearn.model_selection import train_test_split\n",
        "from keras import layers, losses\n",
        "from keras.datasets import mnist\n",
        "from keras.models import Model"
      ],
      "metadata": {
        "id": "BWX3tCcyHQQ5"
      },
      "execution_count": 10,
      "outputs": []
    },
    {
      "cell_type": "code",
      "source": [
        "\n",
        "# Loading the MNIST dataset and extracting training and testing data\n",
        "(x_train, _), (x_test, _) = mnist.load_data()\n",
        "\n",
        "# Normalizing pixel values to the range [0, 1]\n",
        "x_train = x_train.astype('float32') / 255.\n",
        "x_test = x_test.astype('float32') / 255.\n",
        "\n",
        "# Displaying the shapes of the training and testing datasets\n",
        "print(\"Shape of the training data:\", x_train.shape)\n",
        "print(\"Shape of the testing data:\", x_test.shape)"
      ],
      "metadata": {
        "id": "W-f5QDQhHRC0",
        "outputId": "b0bdbba6-de87-4438-f7ca-3523144664a7",
        "colab": {
          "base_uri": "https://localhost:8080/"
        }
      },
      "execution_count": 11,
      "outputs": [
        {
          "output_type": "stream",
          "name": "stdout",
          "text": [
            "Downloading data from https://storage.googleapis.com/tensorflow/tf-keras-datasets/mnist.npz\n",
            "11490434/11490434 [==============================] - 0s 0us/step\n",
            "Shape of the training data: (60000, 28, 28)\n",
            "Shape of the testing data: (10000, 28, 28)\n"
          ]
        }
      ]
    },
    {
      "cell_type": "code",
      "source": [
        "# Definition of the Autoencoder model as a subclass of the TensorFlow Model class\n",
        "\n",
        "class SimpleAutoencoder(Model):\n",
        "\tdef __init__(self,latent_dimensions , data_shape):\n",
        "\t\tsuper(SimpleAutoencoder, self).__init__()\n",
        "\t\tself.latent_dimensions = latent_dimensions\n",
        "\t\tself.data_shape = data_shape\n",
        "\n",
        "\t\t# Encoder architecture using a Sequential model\n",
        "\t\tself.encoder = tf.keras.Sequential([\n",
        "\t\t\tlayers.Flatten(),\n",
        "\t\t\tlayers.Dense(latent_dimensions, activation='relu'),\n",
        "\t\t])\n",
        "\n",
        "\t\t# Decoder architecture using another Sequential model\n",
        "\t\tself.decoder = tf.keras.Sequential([\n",
        "\t\t\tlayers.Dense(tf.math.reduce_prod(data_shape), activation='sigmoid'),\n",
        "\t\t\tlayers.Reshape(data_shape)\n",
        "\t\t])\n",
        "\n",
        "\t# Forward pass method defining the encoding and decoding steps\n",
        "\tdef call(self, input_data):\n",
        "\t\tencoded_data = self.encoder(input_data)\n",
        "\t\tdecoded_data = self.decoder(encoded_data)\n",
        "\t\treturn decoded_data\n",
        "\n",
        "# Extracting shape information from the testing dataset\n",
        "input_data_shape = x_test.shape[1:]\n",
        "\n",
        "# Specifying the dimensionality of the latent space\n",
        "latent_dimensions = 64\n",
        "\n",
        "# Creating an instance of the SimpleAutoencoder model\n",
        "simple_autoencoder = SimpleAutoencoder(latent_dimensions, input_data_shape)\n"
      ],
      "metadata": {
        "id": "JDdeo7QjHV-D"
      },
      "execution_count": 12,
      "outputs": []
    },
    {
      "cell_type": "code",
      "source": [
        "simple_autoencoder.compile(optimizer='adam', loss=losses.MeanSquaredError())\n",
        "\n",
        "simple_autoencoder.fit(x_train, x_train,\n",
        "\t\t\t\tepochs=1,\n",
        "\t\t\t\tshuffle=True,\n",
        "\t\t\t\tvalidation_data=(x_test, x_test))\n"
      ],
      "metadata": {
        "id": "HI-Lj9MXHZkG",
        "outputId": "d0d77555-8196-43fe-dd37-6ee868cb2db3",
        "colab": {
          "base_uri": "https://localhost:8080/"
        }
      },
      "execution_count": 13,
      "outputs": [
        {
          "output_type": "stream",
          "name": "stdout",
          "text": [
            "1875/1875 [==============================] - 10s 5ms/step - loss: 0.0237 - val_loss: 0.0093\n"
          ]
        },
        {
          "output_type": "execute_result",
          "data": {
            "text/plain": [
              "<keras.src.callbacks.History at 0x7c058e0564d0>"
            ]
          },
          "metadata": {},
          "execution_count": 13
        }
      ]
    },
    {
      "cell_type": "code",
      "source": [
        "encoded_imgs = simple_autoencoder.encoder(x_test).numpy()\n",
        "decoded_imgs = simple_autoencoder.decoder(encoded_imgs).numpy()\n",
        "\n",
        "n = 6\n",
        "plt.figure(figsize=(8, 4))\n",
        "for i in range(n):\n",
        "# display original\n",
        " ax = plt.subplot(2, n, i + 1)\n",
        " plt.imshow(x_test[i])\n",
        " plt.title(\"original\")\n",
        " plt.gray()\n",
        "\n",
        "# display reconstruction\n",
        " ax = plt.subplot(2, n, i + 1 + n)\n",
        " plt.imshow(decoded_imgs[i])\n",
        " plt.title(\"reconstructed\")\n",
        " plt.gray()\n",
        "\n",
        "plt.show()\n"
      ],
      "metadata": {
        "id": "4NllQSCVHf1e",
        "outputId": "7dc34d23-2ab5-4998-8925-33788c284bb4",
        "colab": {
          "base_uri": "https://localhost:8080/",
          "height": 339
        }
      },
      "execution_count": 15,
      "outputs": [
        {
          "output_type": "display_data",
          "data": {
            "text/plain": [
              "<Figure size 800x400 with 12 Axes>"
            ],
            "image/png": "[encoded data removed]"
          },
          "metadata": {}
        }
      ]
    }
  ],
  "metadata": {
    "colab": {
      "name": "Welcome To Colaboratory",
      "toc_visible": true,
      "provenance": [],
      "include_colab_link": true
    },
    "kernelspec": {
      "display_name": "Python 3",
      "name": "python3"
    }
  },
  "nbformat": 4,
  "nbformat_minor": 0
}